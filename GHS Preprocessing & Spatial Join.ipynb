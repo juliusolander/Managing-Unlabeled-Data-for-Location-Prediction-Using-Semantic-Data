{
 "cells": [
  {
   "cell_type": "code",
   "execution_count": null,
   "id": "2c129cf6",
   "metadata": {},
   "outputs": [],
   "source": [
    "import os\n",
    "import pandas as pd\n",
    "import numpy as np\n",
    "from osgeo import gdal\n",
    "import georasters as gr\n",
    "import rasterio\n",
    "from rasterio.mask import mask\n",
    "import py7zr\n",
    "import subprocess\n",
    "import geopandas as gpd\n",
    "import zipfile"
   ]
  },
  {
   "cell_type": "markdown",
   "id": "3bd21f8c",
   "metadata": {},
   "source": [
    "## Clipping to Sweden (or Stockholm County)"
   ]
  },
  {
   "cell_type": "code",
   "execution_count": 2,
   "id": "7339191c",
   "metadata": {},
   "outputs": [],
   "source": [
    "def clip_raster(raster_path, boundary, output_folder=\"clipped_GHS_Data\"):\n",
    "    # create the output directory if it doesn't exist\n",
    "    os.makedirs(output_folder, exist_ok=True)\n",
    "    \n",
    "    with rasterio.open(raster_path) as src:\n",
    "        out_image, out_transform = mask(src, sweden_boundary.geometry, crop=True)\n",
    "        out_meta = src.meta.copy()\n",
    "        \n",
    "        out_meta.update({\n",
    "            \"driver\": \"GTiff\",\n",
    "            \"height\": out_image.shape[1],\n",
    "            \"width\": out_image.shape[2],\n",
    "            \"transform\": out_transform\n",
    "        })\n",
    "        \n",
    "        output_path = os.path.join(output_folder, f\"clipped_{os.path.basename(raster_path)}\")\n",
    "        \n",
    "        with rasterio.open(output_path, \"w\", **out_meta) as dest:\n",
    "            dest.write(out_image)\n",
    "            \n",
    "    print(f\"Clipped raster saved to {output_path}\")"
   ]
  },
  {
   "cell_type": "code",
   "execution_count": null,
   "id": "2b79db23",
   "metadata": {},
   "outputs": [],
   "source": [
    "# original raster paths\n",
    "raster_paths = [''] # GHS raster paths\n",
    "\n",
    "# Sweden shapefile as GeoDataFrame\n",
    "sweden_boundary = gpd.read_file('Sweden_shapefile/se.json')\n",
    "\n",
    "# Get Stockholm county boundaries\n",
    "se_counties = gpd.read_file('Sweden_shapefile/se_counties.json')\n",
    "stockholm_boundary = se_counties.loc[[9]]\n",
    "\n",
    "# check CRS of raster\n",
    "with rasterio.open(ghs1) as src:\n",
    "    raster_crs = src.crs\n",
    "    print(f\"Raster CRS: {raster_crs}\")\n",
    "\n",
    "# check CRS of shapefile\n",
    "print(f\"Sweden Boundary CRS: {sweden_boundary.crs}\")\n",
    "\n",
    "# transform the CRS of the Sweden / Stockholm boundary to match the raster CRS if they don't match\n",
    "if sweden_boundary.crs != raster_crs:\n",
    "    sweden_boundary = sweden_boundary.to_crs(raster_crs)\n",
    "    print(f'Transformed Sweden CRS to match raster CRS')"
   ]
  },
  {
   "cell_type": "code",
   "execution_count": null,
   "id": "9dba49e7",
   "metadata": {},
   "outputs": [],
   "source": [
    "# clip the rasters\n",
    "for path in raster_paths:\n",
    "    clip_raster(path, sweden_boundary)"
   ]
  },
  {
   "cell_type": "markdown",
   "id": "c70bad30",
   "metadata": {},
   "source": [
    "# Merge Raster Tiles for each GHS Feature"
   ]
  },
  {
   "cell_type": "code",
   "execution_count": 36,
   "id": "d5b8a6fa",
   "metadata": {},
   "outputs": [],
   "source": [
    "from rasterio.merge import merge\n",
    "\n",
    "def merge_rasters(raster_paths):\n",
    "    src_files_to_mosaic = []\n",
    "    for path in raster_paths:\n",
    "        src = rasterio.open(path)\n",
    "        src_files_to_mosaic.append(src)\n",
    "\n",
    "    mosaic, out_trans = merge(src_files_to_mosaic)\n",
    "\n",
    "    # Update metadata\n",
    "    out_meta = src.meta.copy()\n",
    "    out_meta.update({\n",
    "        \"driver\": \"GTiff\",\n",
    "        \"height\": mosaic.shape[1],\n",
    "        \"width\": mosaic.shape[2],\n",
    "        \"transform\": out_trans,\n",
    "        \"crs\": src.crs\n",
    "    })\n",
    "    \n",
    "    for src in src_files_to_mosaic:\n",
    "        src.close()\n",
    "\n",
    "    return mosaic, out_meta"
   ]
  },
  {
   "cell_type": "code",
   "execution_count": null,
   "id": "ba693d71",
   "metadata": {},
   "outputs": [],
   "source": [
    "# paths to clipped GHS data\n",
    "pop_paths = ['clipped_GHS_Data\\clipped_GHS_POP_E2020_GLOBE_R2023A_54009_100_V1_0_R2_C19.tif',\n",
    "            'clipped_GHS_Data\\clipped_GHS_POP_E2020_GLOBE_R2023A_54009_100_V1_0_R2_C20.tif',\n",
    "            'clipped_GHS_Data\\clipped_GHS_POP_E2020_GLOBE_R2023A_54009_100_V1_0_R3_C19.tif',\n",
    "            'clipped_GHS_Data\\clipped_GHS_POP_E2020_GLOBE_R2023A_54009_100_V1_0_R3_C20.tif']\n",
    "\n",
    "surface_paths = ['clipped_GHS_Data/clipped_GHS_BUILT_S_E2030_GLOBE_R2023A_54009_100_V1_0_R2_C19.tif',\n",
    "                'clipped_GHS_Data/clipped_GHS_BUILT_S_E2030_GLOBE_R2023A_54009_100_V1_0_R2_C20.tif',\n",
    "                'clipped_GHS_Data/clipped_GHS_BUILT_S_E2030_GLOBE_R2023A_54009_100_V1_0_R3_C19.tif',\n",
    "                'clipped_GHS_Data/clipped_GHS_BUILT_S_E2030_GLOBE_R2023A_54009_100_V1_0_R3_C20.tif']\n",
    "\n",
    "height_paths = ['clipped_GHS_Data\\clipped_GHS_BUILT_H_AGBH_E2018_GLOBE_R2023A_54009_100_V1_0_R2_C19.tif',\n",
    "                'clipped_GHS_Data\\clipped_GHS_BUILT_H_AGBH_E2018_GLOBE_R2023A_54009_100_V1_0_R2_C20.tif',\n",
    "                'clipped_GHS_Data\\clipped_GHS_BUILT_H_AGBH_E2018_GLOBE_R2023A_54009_100_V1_0_R3_C19.tif',\n",
    "                'clipped_GHS_Data\\clipped_GHS_BUILT_H_AGBH_E2018_GLOBE_R2023A_54009_100_V1_0_R3_C20.tif']\n",
    "\n",
    "land_paths = ['clipped_GHS_Data\\clipped_GHS_LAND_E2018_GLOBE_R2022A_54009_100_V1_0_R2_C19.tif',\n",
    "             'clipped_GHS_Data\\clipped_GHS_LAND_E2018_GLOBE_R2022A_54009_100_V1_0_R2_C20.tif',\n",
    "             'clipped_GHS_Data\\clipped_GHS_LAND_E2018_GLOBE_R2022A_54009_100_V1_0_R3_C19.tif',\n",
    "             'clipped_GHS_Data\\clipped_GHS_LAND_E2018_GLOBE_R2022A_54009_100_V1_0_R3_C20.tif']\n",
    "\n",
    "volume_paths = ['clipped_GHS_Data\\clipped_GHS_BUILT_V_E2020_GLOBE_R2023A_54009_100_V1_0_R2_C19.tif',\n",
    "             'clipped_GHS_Data\\clipped_GHS_BUILT_V_E2020_GLOBE_R2023A_54009_100_V1_0_R2_C20.tif',\n",
    "             'clipped_GHS_Data\\clipped_GHS_BUILT_V_E2020_GLOBE_R2023A_54009_100_V1_0_R3_C19.tif',\n",
    "             'clipped_GHS_Data\\clipped_GHS_BUILT_V_E2020_GLOBE_R2023A_54009_100_V1_0_R3_C20.tif']\n",
    "\n",
    "\n",
    "# merge the \"sub\"-rasters into one for each GHS value\n",
    "mosaic1, meta1 = merge_rasters(pop_paths)\n",
    "mosaic2, meta2 = merge_rasters(surface_paths)\n",
    "mosaic3, meta3 = merge_rasters(height_paths)\n",
    "mosaic4, meta4 = merge_rasters(land_paths)\n",
    "mosaic5, meta5 = merge_rasters(volume_paths)"
   ]
  },
  {
   "cell_type": "code",
   "execution_count": null,
   "id": "aca999b4",
   "metadata": {},
   "outputs": [],
   "source": [
    "def save_raster(mosaic, meta, output_path):\n",
    "    with rasterio.open(output_path, 'w', **meta) as dest:\n",
    "        dest.write(mosaic)\n",
    "        \n",
    "save_raster(mosaic1, meta1, 'POP_merged.tif')\n",
    "save_raster(mosaic2, meta2, 'SURFACE_merged.tif')\n",
    "save_raster(mosaic3, meta3, 'HEIGHT_merged.tif')\n",
    "save_raster(mosaic4, meta4, 'LAND_merged.tif')\n",
    "save_raster(mosaic5, meta5, 'VOL_merged.tif')"
   ]
  },
  {
   "cell_type": "markdown",
   "id": "c914b0ea",
   "metadata": {},
   "source": [
    "# Convert Rasters to DataFrame and Merge"
   ]
  },
  {
   "cell_type": "code",
   "execution_count": 40,
   "id": "f26b4a78",
   "metadata": {},
   "outputs": [],
   "source": [
    "def raster_to_dataframe(mosaic, transform):\n",
    "    rows, cols = np.indices(mosaic.shape)\n",
    "    xs, ys = rasterio.transform.xy(transform, rows, cols)\n",
    "    df = pd.DataFrame({\n",
    "        'row': rows.flatten(),\n",
    "        'col': cols.flatten(),\n",
    "        'x': np.array(xs).flatten(),\n",
    "        'y': np.array(ys).flatten(),\n",
    "        'value': mosaic.flatten()\n",
    "    })\n",
    "    return df\n",
    "\n",
    "POP_df = raster_to_dataframe(mosaic1[0], meta1['transform'])\n",
    "SURFACE_df = raster_to_dataframe(mosaic2[0], meta2['transform'])\n",
    "HEIGHT_df = raster_to_dataframe(mosaic3[0], meta3['transform'])\n",
    "LAND_df = raster_to_dataframe(mosaic4[0], meta4['transform'])\n",
    "VOL_df = raster_to_dataframe(mosaic5[0], meta5['transform'])"
   ]
  },
  {
   "cell_type": "code",
   "execution_count": 50,
   "id": "1dd95edf",
   "metadata": {},
   "outputs": [],
   "source": [
    "merged_df = POP_df.merge(SURFACE_df, on=['row', 'col', 'x', 'y'], how='outer', suffixes=('_POP', '_SURFACE'))\n",
    "merged_df = merged_df.merge(HEIGHT_df, on=['row', 'col', 'x', 'y'], how='outer', suffixes=('', '_HEIGHT'))\n",
    "merged_df = merged_df.merge(LAND_df, on=['row', 'col', 'x', 'y'], how='outer', suffixes=('', '_LAND'))\n",
    "merged_df = merged_df.merge(VOL_df, on=['row', 'col', 'x', 'y'], how='outer', suffixes=('', '_VOL'))\n",
    "\n",
    "# rename cols\n",
    "merged_df = merged_df.rename(columns={'value_POP': 'POP',\n",
    "                                      'value_SURFACE': 'SURFACE',\n",
    "                                      'value': 'HEIGHT',\n",
    "                                      'value_LAND': 'LAND',\n",
    "                                     'value_VOL': 'VOLUME'})"
   ]
  },
  {
   "cell_type": "code",
   "execution_count": 55,
   "id": "39f95de9",
   "metadata": {},
   "outputs": [],
   "source": [
    "# Remove rows with values indicating NoData\n",
    "ghs_df = merged_df[(buffer_joined['LAND'] != 65535) & (buffer_joined['SURFACE'] != 65535) & \n",
    "                            (buffer_joined['VOLUME'] != 4294967295) & (buffer_joined['POP'] != -200) &\n",
    "                            (buffer_joined['HEIGHT'] != -1.0)]"
   ]
  },
  {
   "cell_type": "code",
   "execution_count": 56,
   "id": "83b89155",
   "metadata": {},
   "outputs": [],
   "source": [
    "# save the stockholm_df as csv\n",
    "ghs_df.to_csv('GHS_100x1.csv')"
   ]
  },
  {
   "cell_type": "markdown",
   "id": "a700c3a0",
   "metadata": {},
   "source": [
    "# Plot Rasters"
   ]
  },
  {
   "cell_type": "code",
   "execution_count": null,
   "id": "55291617",
   "metadata": {},
   "outputs": [],
   "source": [
    "from rasterio.plot import show\n",
    "\n",
    "raster_path = 'POP_merged.tif' # example with POPULATION\n",
    "\n",
    "with rasterio.open(raster_path) as src:\n",
    "    # Read the raster data\n",
    "    raster_data = src.read(1)\n",
    "    \n",
    "    # plot the raster data using imshow\n",
    "    plt.figure(figsize=(10, 10))\n",
    "    im = plt.imshow(raster_data, cmap='viridis')\n",
    "    plt.title('Raster Visualization')\n",
    "    plt.xlabel('Column #')\n",
    "    plt.ylabel('Row #')\n",
    "    \n",
    "    # add colorbar\n",
    "    cbar = plt.colorbar(im, label='Value')\n",
    "    \n",
    "    plt.show()"
   ]
  },
  {
   "cell_type": "markdown",
   "id": "29de1428",
   "metadata": {},
   "source": [
    "# Spatial Join with SE Data\n",
    "(example is for all of Sweden)"
   ]
  },
  {
   "cell_type": "code",
   "execution_count": null,
   "id": "9d34062e",
   "metadata": {},
   "outputs": [],
   "source": [
    "from shapely.geometry import Point\n",
    "from scipy.spatial import cKDTree"
   ]
  },
  {
   "cell_type": "code",
   "execution_count": null,
   "id": "4c5fe2ba",
   "metadata": {},
   "outputs": [],
   "source": [
    "# read Sweden df\n",
    "se_df = pd.read_csv('sweden_df.csv')\n",
    "se_df['bLabel'] = se_df['label'].apply(lambda x: 1 if x == \"Labeled\" else 0) # add numeric labeling\n",
    "se_gdf = gpd.GeoDataFrame(se_df, geometry=gpd.points_from_xy(se_df.lon, se_df.lat)) # convert to GeoDataFrame\n",
    "\n",
    "# read GHS value data\n",
    "ghs_df = pd.read_csv('GHS_merged_v2.csv')"
   ]
  },
  {
   "cell_type": "code",
   "execution_count": null,
   "id": "c051950b",
   "metadata": {},
   "outputs": [],
   "source": [
    "se_gdf.crs = \"EPSG:4326\"\n",
    "\n",
    "# Reproject to the same CRS as raster dat\n",
    "se_gdf = se_gdf.to_crs(\"ESRI:54009\")\n",
    "\n",
    "geometry = [Point(xy) for xy in zip(ghs_df['x'], ghs_df['y'])]\n",
    "ghs_gdf = gpd.GeoDataFrame(ghs_df, geometry=geometry)\n",
    "ghs_gdf.crs = \"ESRI:54009\""
   ]
  },
  {
   "cell_type": "code",
   "execution_count": null,
   "id": "361a1450",
   "metadata": {},
   "outputs": [],
   "source": [
    "se_gdf['x'] = se_gdf.geometry.x\n",
    "se_gdf['y'] = se_gdf.geometry.y\n",
    "\n",
    "# Create cKDTree\n",
    "tree = cKDTree(ghs_gdf[['x', 'y']])\n",
    "\n",
    "# Query the tree for the nearest neighbors within a specified distance threshold\n",
    "dist, idx = tree.query(se_gdf[['x', 'y']], k=1, distance_upper_bound=70.71068)\n",
    "\n",
    "# idx contains the indices of the nearest neighbors in raster_gdf\n",
    "# dist contains the distances to the nearest neighbors\n",
    "\n",
    "# Filter out points that are beyond the distance threshold\n",
    "valid = dist < np.inf\n",
    "\n",
    "# Assign the nearest raster values to SE_gdf\n",
    "se_gdf.loc[valid, 'POP'] = ghs_gdf.iloc[idx[valid]]['POP'].values\n",
    "se_gdf.loc[valid, 'SURFACE'] = ghs_gdf.iloc[idx[valid]]['SURFACE'].values\n",
    "se_gdf.loc[valid, 'HEIGHT'] = ghs_gdf.iloc[idx[valid]]['HEIGHT'].values\n",
    "se_gdf.loc[valid, 'LAND'] = ghs_gdf.iloc[idx[valid]]['LAND'].values\n",
    "se_gdf.loc[valid, 'VOLUME'] = ghs_gdf.iloc[idx[valid]]['VOLUME'].values\n",
    "\n",
    "# Fill any missing values with NaN\n",
    "se_gdf.fillna(np.nan, inplace=True)\n",
    "\n",
    "# Convert back to a regular DataFrame and drop NaN\n",
    "df_merged = pd.DataFrame(se_gdf.drop(columns='geometry')).dropna()\n",
    "\n",
    "# Save df\n",
    "df_merged.to_csv('spatialjoined70_v2.csv')"
   ]
  },
  {
   "cell_type": "code",
   "execution_count": null,
   "id": "39921169",
   "metadata": {},
   "outputs": [],
   "source": []
  }
 ],
 "metadata": {
  "kernelspec": {
   "display_name": "Python 3 (ipykernel)",
   "language": "python",
   "name": "python3"
  },
  "language_info": {
   "codemirror_mode": {
    "name": "ipython",
    "version": 3
   },
   "file_extension": ".py",
   "mimetype": "text/x-python",
   "name": "python",
   "nbconvert_exporter": "python",
   "pygments_lexer": "ipython3",
   "version": "3.8.18"
  }
 },
 "nbformat": 4,
 "nbformat_minor": 5
}
