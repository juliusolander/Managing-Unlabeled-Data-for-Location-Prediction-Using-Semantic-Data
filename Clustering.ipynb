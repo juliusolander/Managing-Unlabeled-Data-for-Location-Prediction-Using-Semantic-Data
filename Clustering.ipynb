{
 "cells": [
  {
   "cell_type": "code",
   "execution_count": null,
   "id": "b2eb3bb2",
   "metadata": {},
   "outputs": [],
   "source": [
    "import pandas as pd\n",
    "import numpy as np\n",
    "import matplotlib.pyplot as plt\n",
    "import seaborn as sns\n",
    "import geopandas as gpd\n",
    "import os"
   ]
  },
  {
   "cell_type": "markdown",
   "id": "00be53a7",
   "metadata": {},
   "source": [
    "# Scale Data and Remove Outliers"
   ]
  },
  {
   "cell_type": "code",
   "execution_count": null,
   "id": "2a2b321f",
   "metadata": {},
   "outputs": [],
   "source": [
    "df = pd.read_csv('spatialjoined70_v2.csv', index_col=0).rename(columns={'POP': 'POPULATION'})\n",
    "\n",
    "#### REMOVE OUTLIERS ####\n",
    "from scipy import stats\n",
    "\n",
    "value_columns = ['SURFACE', 'HEIGHT', 'POPULATION', 'VOLUME', 'LAND']\n",
    "z_scores = np.abs(stats.zscore(df_clean[value_columns]))\n",
    "df_clean = df_clean[(z_scores < 3).all(axis=1)]\n",
    "\n",
    "from sklearn.preprocessing import MinMaxScaler\n",
    "\n",
    "df_scaled = df_clean.copy()\n",
    "scaler = MinMaxScaler()\n",
    "df_scaled[value_columns] = scaler.fit_transform(df_scaled[value_columns])"
   ]
  },
  {
   "cell_type": "markdown",
   "id": "f295f94b",
   "metadata": {},
   "source": [
    "## Display Data (Violin Plot)"
   ]
  },
  {
   "cell_type": "code",
   "execution_count": null,
   "id": "6536fc25",
   "metadata": {},
   "outputs": [],
   "source": [
    "# melt for seaborn plots\n",
    "df_melted = df_scaled.melt(value_vars=value_columns, var_name='Category', value_name='Scaled Value')\n",
    "\n",
    "# Create the violin plot\n",
    "plt.figure(figsize=(11, 8))\n",
    "sns.violinplot(x='Category', y='Scaled Value', data=df_melted, palette='Set2', hue='Category', legend=False)\n",
    "plt.xlabel('GHS Category', fontsize=12)\n",
    "plt.ylabel('Scaled GHS Value', fontsize=12)\n",
    "plt.title('Distribution of Scaled GHS Values by GHS Category', fontsize=14)\n",
    "\n",
    "plt.tight_layout()\n",
    "plt.show()"
   ]
  },
  {
   "cell_type": "markdown",
   "id": "833b5f03",
   "metadata": {},
   "source": [
    "# Run K-Means for k=1,...,7 and Calculate Elbow Method and Silhouette Scores"
   ]
  },
  {
   "cell_type": "code",
   "execution_count": null,
   "id": "832757ec",
   "metadata": {},
   "outputs": [],
   "source": [
    "value_columns = ['SURFACE', 'HEIGHT', 'POPULATION', 'VOLUME', 'LAND']\n",
    "sample_df = df_scaled.copy()\n",
    "X = sample_df[value_columns]"
   ]
  },
  {
   "cell_type": "code",
   "execution_count": null,
   "id": "1a0766de",
   "metadata": {},
   "outputs": [],
   "source": [
    "from sklearn.cluster import KMeans\n",
    "from sklearn.metrics import silhouette_score\n",
    "import warnings\n",
    "\n",
    "warnings.filterwarnings(\"ignore\", message=\"KMeans is known to have a memory leak\")\n",
    "\n",
    "# Elbow Method and Silhouette Scores\n",
    "inertia = []\n",
    "silhouette_scores = []\n",
    "kmeans_models = []\n",
    "\n",
    "for n in range(1, 8):\n",
    "    kmeans = KMeans(n_clusters=n, init='k-means++', n_init=10, max_iter=100, random_state=42)\n",
    "    kmeans.fit(X)\n",
    "    # store model for later use\n",
    "    kmeans_models.append(kmeans)\n",
    "    # calculate inertia for k-means\n",
    "    inertia.append(kmeans.inertia_)\n",
    "    if n == 1:\n",
    "        silhouette_scores.append(0)\n",
    "    else:\n",
    "        # calculate silhouette score\n",
    "        score = silhouette_score(X, kmeans.labels_)\n",
    "        silhouette_scores.append(score)\n",
    "\n",
    "fig, ax1 = plt.subplots(figsize=(8, 4))\n",
    "\n",
    "# Plot for Elbow Method\n",
    "c1 = 'tab:blue'\n",
    "ax1.plot(range(1, 8), inertia, label='Inertia', color=c1)\n",
    "ax1.set_xlabel('Number of clusters')\n",
    "ax1.set_ylabel('Inertia', color=c1)\n",
    "ax1.tick_params(axis='y', labelcolor=c1)\n",
    "\n",
    "# Plot for Silhouette Score\n",
    "c2 = 'tab:red'\n",
    "ax2 = ax1.twinx()\n",
    "ax2.plot(range(2, 8), silhouette_scores[1:], label='Silhouette score', color=c2)\n",
    "ax2.set_ylabel('Silhouette score', color=c2)\n",
    "ax2.tick_params(axis='y', labelcolor=c2)\n",
    "\n",
    "ax1.grid(False)\n",
    "ax2.grid(False)\n",
    "\n",
    "fig.legend(loc='upper right', bbox_to_anchor=(0.905, 0.89))\n",
    "plt.title('Elbow Method and Silhouette Scores for K-Means Clustering')\n",
    "plt.show()"
   ]
  },
  {
   "cell_type": "code",
   "execution_count": null,
   "id": "017bf56d",
   "metadata": {},
   "outputs": [],
   "source": []
  },
  {
   "cell_type": "code",
   "execution_count": null,
   "id": "f582eba0",
   "metadata": {},
   "outputs": [],
   "source": [
    "from yellowbrick.cluster import SilhouetteVisualizer\n",
    "\n",
    "fig, ax = plt.subplots(3, 2, figsize=(13, 10))\n",
    "\n",
    "warnings.filterwarnings(\"ignore\", message=\"X does not have valid feature names\")\n",
    "\n",
    "for i in range(2, 8):\n",
    "    # reuse previously fitted model\n",
    "    km = kmeans_models[i-1]\n",
    "    q, mod = divmod(i-2, 2)\n",
    "    \n",
    "    visualizer = SilhouetteVisualizer(km, colors='yellowbrick', ax=ax[q][mod])\n",
    "    visualizer.fit(X)\n",
    "    \n",
    "    ax[q][mod].set_title(f'k = {i}')\n",
    "    ax[q][mod].set_xlabel('Silhouette Score')\n",
    "    ax[q][mod].set_ylabel('Observations')\n",
    "\n",
    "plt.tight_layout()\n",
    "plt.show()"
   ]
  },
  {
   "cell_type": "markdown",
   "id": "7d14c940",
   "metadata": {},
   "source": [
    "# Visualize Clustering"
   ]
  },
  {
   "cell_type": "code",
   "execution_count": null,
   "id": "ea9e5b68",
   "metadata": {},
   "outputs": [],
   "source": [
    "cluster_colors = ['chocolate', 'darkcyan', 'darkmagenta', 'firebrick', 'olivedrab']"
   ]
  },
  {
   "cell_type": "markdown",
   "id": "f791e28c",
   "metadata": {},
   "source": [
    "## Distributions"
   ]
  },
  {
   "cell_type": "code",
   "execution_count": null,
   "id": "e2e27597",
   "metadata": {},
   "outputs": [],
   "source": [
    "# select model with desired k\n",
    "sample_df['cluster'] = kmeans_models[0].fit_predict(X)\n",
    "sample_df['cluster'] = sample_df['cluster'] + 1 # add 1 so cluster labels start from 1 not 0\n",
    "\n",
    "fig, axes = plt.subplots(1, 3, figsize=(12, 5))\n",
    "\n",
    "# all\n",
    "total_clusters = sample_df['cluster'].value_counts().sort_index()\n",
    "total_clusters.plot(kind='bar', ax=axes[0], title='Total Cluster Distribution', color=cluster_colors)\n",
    "axes[0].set_xlabel('Cluster')\n",
    "axes[0].set_ylabel('Count')\n",
    "axes[0].set_xticklabels(total_clusters.index, rotation=0)  # clusters are labeled as 0, 1, 2\n",
    "\n",
    "# unlabeled\n",
    "samp_unlabeled = sample_df[sample_df['label'] == 'Unlabeled']\n",
    "unlabeled_clusters = samp_unlabeled['cluster'].value_counts().sort_index()\n",
    "unlabeled_clusters.plot(kind='bar', ax=axes[1], title='Unlabeled Cluster Distribution', color=cluster_colors)\n",
    "axes[1].set_xlabel('Cluster')\n",
    "axes[1].set_ylabel('Count')\n",
    "axes[1].set_xticklabels(unlabeled_clusters.index, rotation=0)  # Ensures clusters are labeled as 0, 1, 2\n",
    "\n",
    "# labeled\n",
    "samp_labeled = sample_df[sample_df['label'] == 'Labeled']\n",
    "labeled_clusters = samp_labeled['cluster'].value_counts().sort_index()\n",
    "labeled_clusters.plot(kind='bar', ax=axes[2], title='Labeled Cluster Distribution', color=cluster_colors)\n",
    "axes[2].set_xlabel('Cluster')\n",
    "axes[2].set_ylabel('Count')\n",
    "axes[2].set_xticklabels(labeled_clusters.index, rotation=0)  # label in order of 0, 1, 2\n",
    "\n",
    "plt.tight_layout()\n",
    "plt.show()"
   ]
  },
  {
   "cell_type": "markdown",
   "id": "9a857622",
   "metadata": {},
   "source": [
    "## Pairplot"
   ]
  },
  {
   "cell_type": "code",
   "execution_count": null,
   "id": "18a79a30",
   "metadata": {},
   "outputs": [],
   "source": [
    "# cluster colors\n",
    "pairplot = sns.pairplot(sample_df, hue='cluster', palette=cluster_colors, vars=['SURFACE', 'HEIGHT', 'POPULATION', 'LAND', 'VOLUME'])\n",
    "pairplot.fig.suptitle('Cluster Pairplot for k=5', y=1.03, x=0.54)\n",
    "\n",
    "# Remove the grid lines\n",
    "for ax in pairplot.axes.flatten():\n",
    "    ax.grid(False)\n",
    "\n",
    "plt.tight_layout()\n",
    "plt.show()"
   ]
  },
  {
   "cell_type": "markdown",
   "id": "2c44074d",
   "metadata": {},
   "source": [
    "## PCA Viz in 3d"
   ]
  },
  {
   "cell_type": "code",
   "execution_count": null,
   "id": "0bdaa249",
   "metadata": {},
   "outputs": [],
   "source": [
    "from mpl_toolkits.mplot3d import Axes3D\n",
    "\n",
    "# Perform PCA to reduce to 3 dimensions\n",
    "pca_3 = PCA(n_components=3)\n",
    "principal_components_3 = pca_3.fit_transform(sample_df[value_columns])\n",
    "\n",
    "# Create a new DataFrame with the PCA results and the cluster labels\n",
    "pca3_df = pd.DataFrame(data=principal_components_3, columns=['PC1', 'PC2', 'PC3'])\n",
    "pca3_df['cluster'] = sample_df['cluster'].values\n",
    "\n",
    "# map cluster labels to the custom colors (adjusting for 1-based indexing)\n",
    "colors = [cluster_colors[label - 1] for label in pca_df['cluster']]\n",
    "\n",
    "warnings.filterwarnings(\"ignore\", message=\"Collection without array used. Make sure to \")\n",
    "\n",
    "# Create a 3D scatter plot\n",
    "fig = plt.figure(figsize=(10, 8))\n",
    "ax = fig.add_subplot(111, projection='3d')\n",
    "scatter = ax.scatter(pca3_df['PC1'], pca3_df['PC2'], pca3_df['PC3'], c=colors, s=10, alpha=0.3)\n",
    "\n",
    "# Create a manual legend\n",
    "legend_labels = sample_df['cluster'].unique()\n",
    "legend_colors = [cluster_colors[label - 1] for label in legend_labels]\n",
    "patches = [plt.Line2D([0], [0], marker='o', color='w', markerfacecolor=color, markersize=10, label=f'Cluster {label}')\n",
    "           for label, color in zip(legend_labels, legend_colors)]\n",
    "plt.legend(handles=patches, title=\"Clusters\")\n",
    "\n",
    "ax.set_xlabel('Principal Component 1')\n",
    "ax.set_ylabel('Principal Component 2')\n",
    "ax.set_zlabel('Principal Component 3')\n",
    "ax.dist = 11\n",
    "plt.title('PCA of Clusters in 3D')\n",
    "plt.tight_layout()\n",
    "plt.show()"
   ]
  },
  {
   "cell_type": "markdown",
   "id": "17fa46f5",
   "metadata": {},
   "source": [
    "# Map Plot"
   ]
  },
  {
   "cell_type": "code",
   "execution_count": null,
   "id": "a14818c9",
   "metadata": {},
   "outputs": [],
   "source": [
    "import plotly.express as px\n",
    "\n",
    "def cluster_geo_scatter(df):\n",
    "    df['cluster'] = df['cluster'].astype(str)\n",
    "    fig = px.scatter_mapbox(df, lat=\"lat\", lon=\"lon\",\n",
    "                        color_discrete_map={\"1\": \"chocolate\", \"2\": \"darkcyan\", \"3\": \"darkmagenta\", \"4\": \"firebrick\"},\n",
    "                        color=\"cluster\", zoom=4, mapbox_style='open-street-map', opacity=0.6)\n",
    "    fig.update_layout(width=1000, height=1000)\n",
    "    return fig\n",
    "\n",
    "cluster_geo_scatter(sample_df)"
   ]
  },
  {
   "cell_type": "code",
   "execution_count": null,
   "id": "cd0f1c43",
   "metadata": {},
   "outputs": [],
   "source": []
  }
 ],
 "metadata": {
  "kernelspec": {
   "display_name": "Python 3 (ipykernel)",
   "language": "python",
   "name": "python3"
  },
  "language_info": {
   "codemirror_mode": {
    "name": "ipython",
    "version": 3
   },
   "file_extension": ".py",
   "mimetype": "text/x-python",
   "name": "python",
   "nbconvert_exporter": "python",
   "pygments_lexer": "ipython3",
   "version": "3.8.18"
  }
 },
 "nbformat": 4,
 "nbformat_minor": 5
}
