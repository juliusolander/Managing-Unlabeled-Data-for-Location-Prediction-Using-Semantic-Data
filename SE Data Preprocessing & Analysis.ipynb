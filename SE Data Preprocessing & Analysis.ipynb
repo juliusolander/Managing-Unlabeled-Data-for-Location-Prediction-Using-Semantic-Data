{
 "cells": [
  {
   "cell_type": "code",
   "execution_count": null,
   "id": "531a9deb",
   "metadata": {},
   "outputs": [],
   "source": [
    "import os\n",
    "import pandas as pd\n",
    "import numpy as np\n",
    "import matplotlib.pyplot as plt\n",
    "import seaborn as sns\n",
    "import datetime\n",
    "from shapely.geometry import Point\n",
    "import json\n",
    "import plotly.express as px\n",
    "import geopandas as gpd\n",
    "import plotly.graph_objects as go"
   ]
  },
  {
   "cell_type": "markdown",
   "id": "803b2d89",
   "metadata": {},
   "source": [
    "# Filter For Sweden Data Only"
   ]
  },
  {
   "cell_type": "code",
   "execution_count": null,
   "id": "ce855748",
   "metadata": {},
   "outputs": [],
   "source": [
    "df = pd.read_csv('stops_data.csv')\n",
    "\n",
    "# label column\n",
    "df['label'] = np.where(df['key'].isna(), 'Unlabeled', 'Labeled')\n",
    "\n",
    "# filter for Sweden only using geojson file\n",
    "sweden_geojson = 'sweden_geodata/se.json'\n",
    "sweden = gpd.read_file(sweden_geojson)\n",
    "\n",
    "# create GeoDataFrame from df\n",
    "gdf = gpd.GeoDataFrame(df, geometry=[Point(xy) for xy in zip(df.lon, df.lat)], crs=\"EPSG:4326\")\n",
    "\n",
    "# ensure the coordinate reference systems match, reproject if not\n",
    "if sweden.crs != gdf.crs:\n",
    "    sweden = sweden.to_crs(gdf.crs)\n",
    "\n",
    "# spatial join to filter out points outside of Sweden\n",
    "sweden_gdf = gpd.sjoin(gdf, sweden, how='inner', predicate='within')\n",
    "\n",
    "# convert to pandas df\n",
    "sweden_df = pd.DataFrame(sweden_gdf.drop(columns='geometry'))\n",
    "\n",
    "# save filtered df\n",
    "sweden_df.drop(['index_right', 'source', 'id', 'name'], axis=1).to_csv('sweden_df.csv', sep=',', index=False, encoding='utf-8')"
   ]
  },
  {
   "cell_type": "markdown",
   "id": "2c9d75e1",
   "metadata": {},
   "source": [
    "# Geo Scatter (Map Plot)"
   ]
  },
  {
   "cell_type": "code",
   "execution_count": null,
   "id": "f1f91d67",
   "metadata": {},
   "outputs": [],
   "source": [
    "df = pd.read_csv('sweden_df.csv')"
   ]
  },
  {
   "cell_type": "code",
   "execution_count": null,
   "id": "ec59d589",
   "metadata": {},
   "outputs": [],
   "source": [
    "def geo_scatter(df, samplesize):\n",
    "    \n",
    "    df = df.sample(samplesize).copy()\n",
    "    px.set_mapbox_access_token('pk.eyJ1Ijoiam9sYW5kaXVzIiwiYSI6ImNsdTFnMnEyYTBtMTkyanFzeGhheXZlNTAifQ.R135YPOJBXyYHSfeL42e_w')\n",
    "    \n",
    "    fig = px.scatter_mapbox(df, lat=\"lat\", lon=\"lon\",\n",
    "             #           color_discrete_map={\"Labeled\": \"blue\", \"Unlabeled\": \"red\"},\n",
    "                        color=\"value\", # can also color by \"label\"\n",
    "                        zoom=4,\n",
    "                 #       hover_data=[\"key\", \"category\", \"value\"],\n",
    "                        mapbox_style='open-street-map', title=title)\n",
    "    fig.update_traces(marker=dict(size=5))\n",
    "    fig.update_layout(width=1000, height=1000)\n",
    "    \n",
    "    return fig"
   ]
  },
  {
   "cell_type": "markdown",
   "id": "1169a9f9",
   "metadata": {},
   "source": [
    "# Unlabeled vs Labeled Pie Chart & Label Counts of 'value'"
   ]
  },
  {
   "cell_type": "code",
   "execution_count": null,
   "id": "0d0778bb",
   "metadata": {},
   "outputs": [],
   "source": [
    "total = df['label'].value_counts().values.sum()\n",
    "\n",
    "def fmt(x):\n",
    "    return '{:.1f}%\\n{:.0f}'.format(x, total*x/100)\n",
    "\n",
    "fig = plt.figure(figsize=(7, 5))\n",
    "plt.pie(df.label.value_counts(), labels=df.label.unique(), colors=['lightblue','darksalmon'], autopct=fmt)\n",
    "\n",
    "# show plo\n",
    "plt.tight_layout()\n",
    "plt.show()"
   ]
  },
  {
   "cell_type": "code",
   "execution_count": null,
   "id": "d461b86e",
   "metadata": {},
   "outputs": [],
   "source": [
    "plt.figure(figsize=(5,4))\n",
    "df.value.value_counts().plot(kind='bar')\n",
    "plt.xticks(rotation=0)\n",
    "plt.xlabel('value', size=12)\n",
    "plt.ylabel('Count')\n",
    "plt.title('Label counts of value')\n",
    "#plt.tight_layout()\n",
    "#plt.savefig('LabelCounts.png')\n",
    "plt.show()"
   ]
  },
  {
   "cell_type": "markdown",
   "id": "c9cec4b3",
   "metadata": {},
   "source": [
    "# Cloropleth with Unlabeled/Labeled ratio for Swedish Administrative Regions"
   ]
  },
  {
   "cell_type": "code",
   "execution_count": null,
   "id": "ceffa1d5",
   "metadata": {},
   "outputs": [],
   "source": [
    "admin_areas = gpd.read_file('sweden_geodata/se_adminregions.json')"
   ]
  },
  {
   "cell_type": "markdown",
   "id": "01feef3d",
   "metadata": {},
   "source": [
    "source: https://simplemaps.com/gis/country/se#admin1"
   ]
  },
  {
   "cell_type": "code",
   "execution_count": null,
   "id": "c4e86ef0",
   "metadata": {},
   "outputs": [],
   "source": [
    "# convert df to a gdf\n",
    "gdf_points = gpd.GeoDataFrame(df, geometry=gpd.points_from_xy(df.lon, df.lat), crs='EPSG:4326')\n",
    "\n",
    "# ensure administrative areas are in the same CRS as points\n",
    "admin_areas = admin_areas.to_crs('EPSG:4326')\n",
    "\n",
    "# assign each point to an administrative area\n",
    "gdf_joined = gpd.sjoin(gdf_points, admin_areas, how='inner', predicate='within')\n",
    "\n",
    "# calculate counts of Unlabeled to Labeled and their ratios per area\n",
    "label_counts = gdf_joined.groupby('name')['label'].value_counts().unstack(fill_value=0)\n",
    "label_counts['ratio'] = label_counts['Unlabeled'] / (label_counts['Unlabeled'] + label_counts['Labeled'])\n",
    "label_counts.reset_index(inplace=True)\n",
    "\n",
    "# merge counts and ratios back to the admin_areas gdf\n",
    "admin_areas_ratios = admin_areas.merge(label_counts, left_on='name', right_on='name', how='left')\n",
    "\n",
    "fig = px.choropleth_mapbox(admin_areas_ratios, geojson=admin_areas_ratios.geometry.__geo_interface__,\n",
    "                           locations=admin_areas_ratios.index, color='ratio',\n",
    "                           color_continuous_scale=\"thermal\", hover_name=\"name\",\n",
    "                           range_color=(0, admin_areas_ratios['ratio'].max()),\n",
    "                           mapbox_style=\"carto-positron\",\n",
    "                           zoom=5, center={\"lat\": 60.128161, \"lon\": 18.643501},  # Center on Sweden\n",
    "                           opacity=0.5)\n",
    "fig.update_layout(width=500, height=900)\n",
    "fig.show()"
   ]
  },
  {
   "cell_type": "markdown",
   "id": "74acf61e",
   "metadata": {},
   "source": [
    "# Sweden Administrative Regions and Unlabeled Ratio Correlation"
   ]
  },
  {
   "cell_type": "code",
   "execution_count": null,
   "id": "2a96e156",
   "metadata": {},
   "outputs": [],
   "source": [
    "import requests\n",
    "\n",
    "# fetch the population table from wikipedia\n",
    "url = 'https://en.wikipedia.org/wiki/Counties_of_Sweden'\n",
    "tables = pd.read_html(requests.get(url).text)\n",
    "\n",
    "table = pd.DataFrame(tables[4]).drop(['ISO', 'NUTS', 'CoA', 'Governor', 'Administrative centre'], axis=1)  # pop. data table\n",
    "\n",
    "table = table.rename(columns={'Population (2021-12-31)[1]': 'Population', 'County (Län)': 'name'})"
   ]
  },
  {
   "cell_type": "code",
   "execution_count": null,
   "id": "28af5763",
   "metadata": {},
   "outputs": [],
   "source": [
    "counties = pd.merge(admin_areas_ratios, table, on='name', how='inner').drop(['source'], axis=1)\n",
    "\n",
    "corr_cols = corr_cols[['ratio', 'Area (km2)', 'Population', 'Density',\n",
    "       'centroid_lon', 'centroid_lat']]\n",
    "rename = ['unlabeled ratio', 'area (km2)', 'population', 'pop. density',\n",
    "       'reg. centroid lon', 'reg. centroid lat']\n",
    "corr_cols.columns = rename\n",
    "\n",
    "correlation_matrix = corr_cols.corr()"
   ]
  },
  {
   "cell_type": "code",
   "execution_count": null,
   "id": "32b981b0",
   "metadata": {},
   "outputs": [],
   "source": [
    "plt.figure(figsize=(8, 6))\n",
    "sns.heatmap(correlation_matrix, annot=True, fmt=\".2f\", cmap=\"coolwarm\", square=True, linewidths=.5)\n",
    "plt.title('Correlation Matrix for Swedish Regions')\n",
    "plt.xticks(rotation=45)\n",
    "plt.yticks(rotation=45)\n",
    "plt.show()"
   ]
  }
 ],
 "metadata": {
  "kernelspec": {
   "display_name": "Python 3 (ipykernel)",
   "language": "python",
   "name": "python3"
  },
  "language_info": {
   "codemirror_mode": {
    "name": "ipython",
    "version": 3
   },
   "file_extension": ".py",
   "mimetype": "text/x-python",
   "name": "python",
   "nbconvert_exporter": "python",
   "pygments_lexer": "ipython3",
   "version": "3.8.18"
  }
 },
 "nbformat": 4,
 "nbformat_minor": 5
}
