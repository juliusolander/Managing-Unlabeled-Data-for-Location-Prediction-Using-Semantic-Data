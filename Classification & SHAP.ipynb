{
 "cells": [
  {
   "cell_type": "code",
   "execution_count": null,
   "id": "7271aa2b",
   "metadata": {},
   "outputs": [],
   "source": [
    "import pandas as pd\n",
    "import numpy as np\n",
    "import matplotlib.pyplot as plt\n",
    "import seaborn as sns\n",
    "import geopandas as gpd\n",
    "import os"
   ]
  },
  {
   "cell_type": "code",
   "execution_count": null,
   "id": "38bee8e7",
   "metadata": {},
   "outputs": [],
   "source": [
    "joined_df = pd.read_csv('spatialjoined70_v2.csv')"
   ]
  },
  {
   "cell_type": "markdown",
   "id": "8d8ba428",
   "metadata": {},
   "source": [
    "# Balance Features"
   ]
  },
  {
   "cell_type": "code",
   "execution_count": null,
   "id": "148486e5",
   "metadata": {},
   "outputs": [],
   "source": [
    "# extracting labeled locations only\n",
    "labeled_df = buffer_joined[buffer_joined.label == 'Labeled']"
   ]
  },
  {
   "cell_type": "code",
   "execution_count": null,
   "id": "32dabb8d",
   "metadata": {},
   "outputs": [],
   "source": [
    "# find the largest balanced training size\n",
    "min_class_size = labeled_df['value'].value_counts().min()\n",
    "print(f\"Smallest class size: {min_class_size}\")\n",
    "\n",
    "# amount of each value class to sample\n",
    "value_class_size = 217299\n",
    "\n",
    "# sample same amount from each class\n",
    "balanced_df = labeled_df.groupby('value').apply(lambda x: x.sample(value_class_size, random_state=42), include_groups=True).reset_index(drop=True)"
   ]
  },
  {
   "cell_type": "markdown",
   "id": "77fceb23",
   "metadata": {},
   "source": [
    "# Prepare and Scale Features"
   ]
  },
  {
   "cell_type": "code",
   "execution_count": null,
   "id": "45dadbea",
   "metadata": {},
   "outputs": [],
   "source": [
    "from sklearn.model_selection import train_test_split\n",
    "from sklearn.preprocessing import MinMaxScaler\n",
    "\n",
    "# features and target\n",
    "X = balanced_df[['SURFACE', 'HEIGHT', 'LAND', 'POP', 'VOLUME']]\n",
    "y = balanced_df['value']\n",
    "\n",
    "# normalizing features\n",
    "scaler = MinMaxScaler()\n",
    "scaled_features = scaler.fit_transform(X)\n",
    "X = pd.DataFrame(scaled_features, columns=X.columns)\n",
    "\n",
    "X.to_csv('X_lowres_balanced')\n",
    "y.to_csv('y_lowres_balanced')"
   ]
  },
  {
   "cell_type": "markdown",
   "id": "fe9543e4",
   "metadata": {},
   "source": [
    "# Grid Search"
   ]
  },
  {
   "cell_type": "code",
   "execution_count": null,
   "id": "761546d9",
   "metadata": {},
   "outputs": [],
   "source": [
    "import pandas as pd\n",
    "import numpy as np\n",
    "\n",
    "from sklearn.model_selection import train_test_split\n",
    "from sklearn.preprocessing import MinMaxScaler\n",
    "\n",
    "X = pd.read_csv('X_lowres_balanced', index_col=0)\n",
    "y = pd.read_csv('y_lowres_balanced', index_col=0)\n",
    "\n",
    "# normalizing features\n",
    "scaler = MinMaxScaler()\n",
    "scaled_features = scaler.fit_transform(X)\n",
    "X = pd.DataFrame(scaled_features, columns=X.columns)\n",
    "\n",
    "# separate out the test set\n",
    "X_train, X_test, y_train, y_test = train_test_split(\n",
    "    X, y, test_size=0.2, random_state=42)\n",
    "\n",
    "# convert target variables to NumPy arrays and ravel\n",
    "y_train = y_train.values.ravel()\n",
    "y_test = y_test.values.ravel()"
   ]
  },
  {
   "cell_type": "code",
   "execution_count": null,
   "id": "779985f0",
   "metadata": {},
   "outputs": [],
   "source": [
    "from sklearn.model_selection import RandomizedSearchCV\n",
    "from scipy.stats import randint\n",
    "from sklearn.ensemble import RandomForestClassifier\n",
    "from sklearn.metrics import classification_report\n",
    "\n",
    "# Define the parameter distributions\n",
    "param_dist = {\n",
    "    'n_estimators': randint(100, 200),\n",
    "    'max_depth': [None, 10, 20, 30],\n",
    "    'min_samples_split': randint(2, 20),\n",
    "    'min_samples_leaf': randint(1, 20),\n",
    "    'max_features': ['sqrt', 'log2', None],\n",
    "    'bootstrap': [True, False],\n",
    "    'class_weight': [None, 'balanced']\n",
    "}\n",
    "\n",
    "# Initialize the model\n",
    "clf = RandomForestClassifier(random_state=42)\n",
    "\n",
    "# Initialize the random search\n",
    "random_search = RandomizedSearchCV(estimator=clf, param_distributions=param_dist, \n",
    "                                   n_iter=100, cv=3, n_jobs=-1, verbose=2, scoring='f1_macro', random_state=42)\n",
    "\n",
    "# Fit the random search to the data\n",
    "random_search.fit(X_train, y_train)\n",
    "\n",
    "# Print the best parameters and best score\n",
    "print(f\"Best parameters found: {random_search.best_params_}\")\n",
    "print(f\"Best cross-validated F1 score: {random_search.best_score_}\")\n",
    "\n",
    "# Use the best estimator to make predictions\n",
    "best_clf = random_search.best_estimator_"
   ]
  },
  {
   "cell_type": "markdown",
   "id": "5fa8aec1",
   "metadata": {},
   "source": [
    "# Random Forest Classifier"
   ]
  },
  {
   "cell_type": "code",
   "execution_count": null,
   "id": "abc53d55",
   "metadata": {},
   "outputs": [],
   "source": [
    "from sklearn.ensemble import RandomForestClassifier\n",
    "from sklearn.metrics import classification_report\n",
    "\n",
    "# training the classifier\n",
    "clf = RandomForestClassifier(n_estimators=117, bootstrap=True, class_weight=None,\n",
    "                             max_depth=30, max_features='sqrt', min_samples_leaf=1,\n",
    "                             min_samples_split=4, random_state=42)\n",
    "clf.fit(X_train, y_train)"
   ]
  },
  {
   "cell_type": "markdown",
   "id": "c8858753",
   "metadata": {},
   "source": [
    "# Classification Report & Confusion Matrix"
   ]
  },
  {
   "cell_type": "code",
   "execution_count": null,
   "id": "f00ed593",
   "metadata": {},
   "outputs": [],
   "source": [
    "# predicting on test set + classification report\n",
    "y_pred = clf.predict(X_test)\n",
    "print(classification_report(y_test, y_pred))"
   ]
  },
  {
   "cell_type": "code",
   "execution_count": null,
   "id": "006966c9",
   "metadata": {},
   "outputs": [],
   "source": [
    "# CONFUSION MATRIX\n",
    "from sklearn.metrics import confusion_matrix\n",
    "\n",
    "cm = confusion_matrix(y_test, y_pred)\n",
    "classes = sorted(y_test.unique())\n",
    "\n",
    "plt.figure(figsize=(12, 7.5))\n",
    "sns.heatmap(cm, annot=True, fmt='d', cmap=plt.cm.Blues, xticklabels=classes, yticklabels=classes)\n",
    "plt.xticks(rotation=45)\n",
    "plt.yticks(rotation=45)\n",
    "plt.xlabel('Predicted Label', fontsize=12)\n",
    "plt.ylabel('True Label', fontsize=12)\n",
    "plt.title('Confusion Matrix (Model 3)', fontsize=16)\n",
    "plt.show()"
   ]
  },
  {
   "cell_type": "markdown",
   "id": "aed584d9",
   "metadata": {},
   "source": [
    "# SHAP Values"
   ]
  },
  {
   "cell_type": "code",
   "execution_count": null,
   "id": "9d0cb6ea",
   "metadata": {},
   "outputs": [],
   "source": [
    "sample_size = 500\n",
    "\n",
    "# Randomly sample indices\n",
    "sample_indices = np.random.choice(X_val.index, size=sample_size, replace=False)\n",
    "\n",
    "# Subset\n",
    "X_sample = X_test.loc[sample_indices]\n",
    "y_sample = y_test.loc[sample_indices]"
   ]
  },
  {
   "cell_type": "code",
   "execution_count": null,
   "id": "99600993",
   "metadata": {},
   "outputs": [],
   "source": [
    "import shap\n",
    "\n",
    "explainer = shap.TreeExplainer(clf)\n",
    "explanation = explainer(X_sample)\n",
    "shap_values = explainer.shap_values(X_sample)"
   ]
  },
  {
   "cell_type": "markdown",
   "id": "e1303fd2",
   "metadata": {},
   "source": [
    "## Feature Importance Plot"
   ]
  },
  {
   "cell_type": "code",
   "execution_count": null,
   "id": "20300b53",
   "metadata": {},
   "outputs": [],
   "source": [
    "# Plot the SHAP summary plot\n",
    "shap.summary_plot(shap_values, X_sample.values, plot_type=\"bar\", class_names=class_names, feature_names=X_sample.columns, show=False)\n",
    "plt.title(\"Feature Importance (Model 1)\", fontsize=12, pad=0.01)\n",
    "plt.xlabel(\"mean (|SHAP value|) (average impact on model output magnitude)\", fontsize=10)\n",
    "plt.tight_layout()\n",
    "plt.show()"
   ]
  },
  {
   "cell_type": "markdown",
   "id": "7c656bc9",
   "metadata": {},
   "source": [
    "## Summary Plot"
   ]
  },
  {
   "cell_type": "code",
   "execution_count": null,
   "id": "194bb282",
   "metadata": {},
   "outputs": [],
   "source": [
    "class_names = ['amenity', 'leisure', 'landuse', 'shop', 'tourism']\n",
    "\n",
    "for i, class_name in enumerate(class_names):\n",
    "    plt.figure(figsize=(10, 12))\n",
    "    shap.summary_plot(shap_values[i], X_sample.values, feature_names=X_sample.columns, show=False)\n",
    "    plt.title(f'Class: {class_name}', fontsize=16)\n",
    "    plt.xlabel(\"SHAP value (impact on model output)\", fontsize=12)\n",
    "    plt.yticks(fontsize=12)\n",
    "    plt.show()"
   ]
  },
  {
   "cell_type": "markdown",
   "id": "3675d6c9",
   "metadata": {},
   "source": [
    "## Dependence Plot"
   ]
  },
  {
   "cell_type": "code",
   "execution_count": null,
   "id": "f1297d96",
   "metadata": {},
   "outputs": [],
   "source": [
    "# List of feature names\n",
    "feature_names = X_sample.columns.tolist()\n",
    "\n",
    "# Number of classes\n",
    "num_classes = len(shap_values)\n",
    "\n",
    "# Create a figure with subplots\n",
    "fig, axes = plt.subplots(num_classes, len(feature_names), figsize=(19.5, 15), sharey=True, sharex=True)\n",
    "# Iterate over each class and feature\n",
    "for class_idx in range(num_classes):\n",
    "    for feature_idx, feature_name in enumerate(feature_names):\n",
    "        ax = axes[class_idx, feature_idx]\n",
    "        shap.dependence_plot(\n",
    "            feature_idx, shap_values[class_idx], X_sample.values, feature_names=feature_names, ax=ax, show=False\n",
    "        )\n",
    "        ax.set_xlabel('')\n",
    "        ax.set_ylabel('SHAP value')\n",
    "        if class_idx == 0:\n",
    "            ax.set_title(feature_name, fontsize=18)\n",
    "        if feature_idx == 0:\n",
    "            ax.set_ylabel(class_names[class_idx], fontsize=18)\n",
    "\n",
    "plt.tight_layout()\n",
    "plt.show()"
   ]
  }
 ],
 "metadata": {
  "kernelspec": {
   "display_name": "Python 3 (ipykernel)",
   "language": "python",
   "name": "python3"
  },
  "language_info": {
   "codemirror_mode": {
    "name": "ipython",
    "version": 3
   },
   "file_extension": ".py",
   "mimetype": "text/x-python",
   "name": "python",
   "nbconvert_exporter": "python",
   "pygments_lexer": "ipython3",
   "version": "3.8.18"
  }
 },
 "nbformat": 4,
 "nbformat_minor": 5
}
